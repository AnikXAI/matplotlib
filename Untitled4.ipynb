{
  "nbformat": 4,
  "nbformat_minor": 0,
  "metadata": {
    "colab": {
      "private_outputs": true,
      "provenance": [],
      "authorship_tag": "ABX9TyNBdlUCuCWiX0fZudj/NYtk",
      "include_colab_link": true
    },
    "kernelspec": {
      "name": "python3",
      "display_name": "Python 3"
    },
    "language_info": {
      "name": "python"
    }
  },
  "cells": [
    {
      "cell_type": "markdown",
      "metadata": {
        "id": "view-in-github",
        "colab_type": "text"
      },
      "source": [
        "<a href=\"https://colab.research.google.com/github/AnikXAI/matplotlib/blob/main/Untitled4.ipynb\" target=\"_parent\"><img src=\"https://colab.research.google.com/assets/colab-badge.svg\" alt=\"Open In Colab\"/></a>"
      ]
    },
    {
      "cell_type": "code",
      "execution_count": null,
      "metadata": {
        "id": "s6U3Td34y_j0"
      },
      "outputs": [],
      "source": [
        "import matplotlib.pyplot as plt\n",
        "from mpl_toolkits.mplot3d import Axes3D\n",
        "import numpy as np\n",
        "\n",
        "x = np.linspace(1,5,3)\n",
        "y = np.linspace(1,5,3)\n",
        "\n",
        "x, y = np.meshgrid(x, y)\n",
        "\n",
        "z = np.sin(x) * np.cos(y)\n",
        "\n",
        "fig = plt.figure()\n",
        "ax = fig.add_subplot(111, projection='3d')\n",
        "\n",
        "ax.plot_surface(x, y, z, cmap='viridis',edgecolor='black')\n",
        "\n",
        "plt.show()\n"
      ]
    },
    {
      "cell_type": "code",
      "source": [
        "import numpy as np\n",
        "import matplotlib.pyplot as plt\n",
        "from mpl_toolkits.mplot3d import Axes3D\n",
        "\n",
        "x = np.linspace(1, 5, 3)\n",
        "y = np.linspace(1, 5, 3)\n",
        "\n",
        "# Create a grid from x and y\n",
        "x, y = np.meshgrid(x, y)\n",
        "\n",
        "# Define z as a function of x and y, for example z = x^2 + y^2\n",
        "z = x**2 + y**2\n",
        "\n",
        "# Create a 3D plot\n",
        "fig = plt.figure()\n",
        "ax = fig.add_subplot(111, projection='3d')\n",
        "\n",
        "# Plot the surface\n",
        "ax.plot_surface(x, y, z, cmap='cool',edgecolor='black')\n",
        "\n",
        "# Set labels and title\n",
        "ax.set_xlabel('X')\n",
        "ax.set_ylabel('Y')\n",
        "ax.set_zlabel('Z')\n",
        "ax.set_title('3D Surface Plot')\n",
        "\n",
        "plt.show()\n"
      ],
      "metadata": {
        "id": "MTOxmTU79dFi"
      },
      "execution_count": null,
      "outputs": []
    }
  ]
}
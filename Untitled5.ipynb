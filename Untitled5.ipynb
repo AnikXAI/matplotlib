{
  "nbformat": 4,
  "nbformat_minor": 0,
  "metadata": {
    "colab": {
      "private_outputs": true,
      "provenance": [],
      "authorship_tag": "ABX9TyPJUuWE5siYByiuhVeEh861",
      "include_colab_link": true
    },
    "kernelspec": {
      "name": "python3",
      "display_name": "Python 3"
    },
    "language_info": {
      "name": "python"
    }
  },
  "cells": [
    {
      "cell_type": "markdown",
      "metadata": {
        "id": "view-in-github",
        "colab_type": "text"
      },
      "source": [
        "<a href=\"https://colab.research.google.com/github/AnikXAI/matplotlib/blob/main/Untitled5.ipynb\" target=\"_parent\"><img src=\"https://colab.research.google.com/assets/colab-badge.svg\" alt=\"Open In Colab\"/></a>"
      ]
    },
    {
      "cell_type": "code",
      "source": [
        "data = pd.DataFrame({\n",
        "    'A': [10, 20, 30, 40, 50],\n",
        "    'B': [5, 15, 25, 35, 45],\n",
        "    'C': [2, 4, 6, 8, 10],\n",
        "    'D': [3, 6, 9, 12, 15],\n",
        "    'E': [1, 2, 3, 4, 5]\n",
        "})\n",
        "print(data)\n"
      ],
      "metadata": {
        "id": "OXfUyFw5C1JJ"
      },
      "execution_count": null,
      "outputs": []
    },
    {
      "cell_type": "code",
      "execution_count": null,
      "metadata": {
        "id": "LEeZdjYM7IxY"
      },
      "outputs": [],
      "source": [
        "import numpy as np\n",
        "import pandas as pd\n",
        "import seaborn as sns\n",
        "import matplotlib.pyplot as plt\n",
        "\n",
        "np.random.seed(42)\n",
        "data = pd.DataFrame(np.random.randn(10, 5), columns=['A', 'B', 'C', 'D', 'E'])\n",
        "\n",
        "correlation_matrix = data.corr()\n",
        "\n",
        "plt.figure(figsize=(8, 6))\n",
        "sns.heatmap(correlation_matrix, annot=True, cmap='coolwarm', fmt=\".2f\", linewidths=0.5)\n",
        "plt.title(\"Correlation Matrix Heatmap\")\n",
        "plt.show()\n"
      ]
    },
    {
      "cell_type": "code",
      "source": [
        "import numpy as np\n",
        "import pandas as pd\n",
        "import seaborn as sns\n",
        "import matplotlib.pyplot as plt\n",
        "\n",
        "np.random.seed(42)\n",
        "data = pd.DataFrame(np.random.randn(100, 5), columns=['A', 'B', 'C', 'D', 'E'])\n",
        "\n",
        "plt.figure(figsize=(10, 6))\n",
        "sns.boxplot(data=data)\n",
        "plt.title(\"Box Plot for Outlier Detection\")\n",
        "plt.show()\n"
      ],
      "metadata": {
        "id": "Sk399PHbM9t8"
      },
      "execution_count": null,
      "outputs": []
    },
    {
      "cell_type": "code",
      "source": [
        "import numpy as np\n",
        "import pandas as pd\n",
        "import seaborn as sns\n",
        "import matplotlib.pyplot as plt\n",
        "\n",
        "np.random.seed(42)\n",
        "\n",
        "data = pd.DataFrame(np.random.randn(100, 5) * 10, columns=['A', 'B', 'C', 'D', 'E'])\n",
        "\n",
        "data.loc[98, 'A'] = 100\n",
        "data.loc[99, 'B'] = -100\n",
        "\n",
        "plt.figure(figsize=(10, 6))\n",
        "sns.boxplot(data=data, palette=\"Set2\", flierprops={'marker': 'o', 'color': 'red', 'markersize': 8})\n",
        "plt.title(\"📦 Box Plot with Outliers Highlighted\", fontsize=14)\n",
        "plt.show()\n"
      ],
      "metadata": {
        "id": "lIvCGFNBN4cS"
      },
      "execution_count": null,
      "outputs": []
    },
    {
      "cell_type": "code",
      "source": [
        "import seaborn as sns\n",
        "import matplotlib.pyplot as plt\n",
        "\n",
        "plt.figure(figsize=(10, 6))\n",
        "sns.violinplot(data=data)\n",
        "plt.title(\"Violin Plot for Distribution Analysis\")\n",
        "plt.show()\n"
      ],
      "metadata": {
        "id": "9mkMf7BLNDI3"
      },
      "execution_count": null,
      "outputs": []
    },
    {
      "cell_type": "code",
      "source": [
        "import seaborn as sns\n",
        "import matplotlib.pyplot as plt\n",
        "\n",
        "plt.figure(figsize=(8, 6))\n",
        "sns.violinplot(y=data[\"A\"], color=\"cyan\")\n",
        "plt.title(\"🎻 Violin Plot for Column 'A' Distribution\", fontsize=14)\n",
        "plt.show()\n"
      ],
      "metadata": {
        "id": "b5h_egT-OXEd"
      },
      "execution_count": null,
      "outputs": []
    },
    {
      "cell_type": "code",
      "source": [
        "import numpy as np\n",
        "import matplotlib.pyplot as plt\n",
        "from mpl_toolkits.mplot3d import Axes3D\n",
        "\n",
        "# Sample Data তৈরি করা\n",
        "np.random.seed(42)\n",
        "x = np.random.randn(100)\n",
        "y = np.random.randn(100)\n",
        "z = np.random.randn(100)\n",
        "\n",
        "# 3D Scatter Plot আঁকা\n",
        "fig = plt.figure(figsize=(8, 6))\n",
        "ax = fig.add_subplot(111, projection='3d')\n",
        "ax.scatter(x, y, z, c=z, cmap='coolwarm', marker='o')\n",
        "\n",
        "# Labels & Title\n",
        "ax.set_xlabel(\"X Axis\")\n",
        "ax.set_ylabel(\"Y Axis\")\n",
        "ax.set_zlabel(\"Z Axis\")\n",
        "ax.set_title(\"🌍 3D Scatter Plot\")\n",
        "\n",
        "plt.show()\n"
      ],
      "metadata": {
        "id": "9O0awIYHO5dL"
      },
      "execution_count": null,
      "outputs": []
    },
    {
      "cell_type": "code",
      "source": [
        "# Meshgrid তৈরি করা\n",
        "x = np.linspace(-5, 5, 50)\n",
        "y = np.linspace(-5, 5, 50)\n",
        "X, Y = np.meshgrid(x, y)\n",
        "Z = np.sin(np.sqrt(X**2 + Y**2))  # z = f(x, y) ফাংশন\n",
        "\n",
        "# 3D Surface Plot আঁকা\n",
        "fig = plt.figure(figsize=(8, 6))\n",
        "ax = fig.add_subplot(111, projection='3d')\n",
        "ax.plot_surface(X, Y, Z, cmap='viridis')\n",
        "\n",
        "# Labels & Title\n",
        "ax.set_xlabel(\"X Axis\")\n",
        "ax.set_ylabel(\"Y Axis\")\n",
        "ax.set_zlabel(\"Z = f(x, y)\")\n",
        "ax.set_title(\"🌋 3D Surface Plot\")\n",
        "\n",
        "plt.show()\n"
      ],
      "metadata": {
        "id": "vRshp8AdPFGS"
      },
      "execution_count": null,
      "outputs": []
    },
    {
      "cell_type": "code",
      "source": [
        "import numpy as np\n",
        "import pandas as pd\n",
        "import seaborn as sns\n",
        "import matplotlib.pyplot as plt\n",
        "\n",
        "# Sample Data তৈরি করা\n",
        "np.random.seed(42)\n",
        "data = pd.DataFrame(np.random.randn(100, 3), columns=['A', 'B', 'C'])\n",
        "\n",
        "# Seaborn Theme সেট করা\n",
        "sns.set_style(\"darkgrid\")  # ['darkgrid', 'whitegrid', 'dark', 'white', 'ticks']\n",
        "\n",
        "# Line Plot আঁকা\n",
        "plt.figure(figsize=(10, 5))\n",
        "sns.lineplot(data=data, palette=\"tab10\", linewidth=2.5)\n",
        "\n",
        "# Title & Labels কাস্টমাইজ করা\n",
        "plt.title(\"📊 Professional Themed Line Plot\", fontsize=14, fontweight='bold')\n",
        "plt.xlabel(\"X-axis Label\", fontsize=12)\n",
        "plt.ylabel(\"Y-axis Label\", fontsize=12)\n",
        "\n",
        "plt.show()\n"
      ],
      "metadata": {
        "id": "fdIfU3SyPxqw"
      },
      "execution_count": null,
      "outputs": []
    },
    {
      "cell_type": "code",
      "source": [
        "# Custom Figure তৈরি করা\n",
        "fig, ax = plt.subplots(figsize=(8, 5))\n",
        "\n",
        "# Scatter Plot আঁকা\n",
        "x = np.linspace(0, 10, 50)\n",
        "y = np.sin(x)\n",
        "ax.plot(x, y, marker='o', linestyle='-', color='royalblue', label=\"Sine Wave\")\n",
        "\n",
        "# Grid কাস্টমাইজ করা\n",
        "ax.grid(True, linestyle='--', alpha=0.6)\n",
        "\n",
        "# Spines (Axes Border) কাস্টমাইজ করা\n",
        "ax.spines[\"top\"].set_visible(False)  # Top Border বাদ\n",
        "ax.spines[\"right\"].set_visible(False)  # Right Border বাদ\n",
        "ax.spines[\"left\"].set_linewidth(1.2)  # Left Border মোটা করা\n",
        "ax.spines[\"bottom\"].set_linewidth(1.2)  # Bottom Border মোটা করা\n",
        "\n",
        "# Labels & Title সেট করা\n",
        "ax.set_title(\"📈 Custom Styled Chart\", fontsize=14, fontweight='bold', color=\"darkred\")\n",
        "ax.set_xlabel(\"X-axis\", fontsize=12, fontweight='bold', color=\"darkblue\")\n",
        "ax.set_ylabel(\"Y-axis\", fontsize=12, fontweight='bold', color=\"darkgreen\")\n",
        "\n",
        "# Legend কাস্টমাইজ করা\n",
        "ax.legend(loc=\"upper right\", fontsize=10, frameon=True, edgecolor=\"black\")\n",
        "\n",
        "plt.show()\n"
      ],
      "metadata": {
        "id": "nJlqjRPUP1R4"
      },
      "execution_count": null,
      "outputs": []
    },
    {
      "cell_type": "code",
      "source": [
        "import numpy as np\n",
        "import pandas as pd\n",
        "import plotly.express as px\n",
        "\n",
        "# Sample Data তৈরি করা\n",
        "np.random.seed(42)\n",
        "df = pd.DataFrame({\n",
        "    'X': np.linspace(0, 10, 100),\n",
        "    'Y': np.sin(np.linspace(0, 10, 100))\n",
        "})\n",
        "\n",
        "# Plotly Interactive Line Chart\n",
        "fig = px.line(df, x='X', y='Y', title=\"📊 Interactive Line Chart with Plotly\")\n",
        "fig.update_traces(line=dict(width=2), marker=dict(size=5))\n",
        "fig.update_layout(template=\"plotly_dark\", hovermode=\"x unified\")\n",
        "\n",
        "# Show Figure\n",
        "fig.show()\n"
      ],
      "metadata": {
        "id": "PMVN_8CKQLDr"
      },
      "execution_count": null,
      "outputs": []
    },
    {
      "cell_type": "code",
      "source": [
        "import numpy as np\n",
        "import matplotlib.pyplot as plt\n",
        "from matplotlib.widgets import Slider, Button\n",
        "\n",
        "# Sample Data তৈরি করা\n",
        "x = np.linspace(0, 10, 100)\n",
        "y = np.sin(x)\n",
        "\n",
        "# Figure এবং Axes তৈরি করা\n",
        "fig, ax = plt.subplots(figsize=(8, 5))\n",
        "plt.subplots_adjust(left=0.1, bottom=0.25)\n",
        "\n",
        "# Line Plot আঁকা\n",
        "line, = plt.plot(x, y, label=\"Sine Wave\", color=\"royalblue\")\n",
        "\n",
        "# Title & Labels\n",
        "plt.title(\"📈 Interactive Plot with Slider\", fontsize=14, fontweight='bold')\n",
        "plt.xlabel(\"X-axis\")\n",
        "plt.ylabel(\"Y-axis\")\n",
        "\n",
        "# Slider-এর জন্য Axes তৈরি করা\n",
        "ax_slider = plt.axes([0.2, 0.1, 0.65, 0.03])\n",
        "slider = Slider(ax_slider, \"Frequency\", 0.1, 5.0, valinit=1.0)\n",
        "\n",
        "# Function: Slider Value পরিবর্তন হলে Graph আপডেট হবে\n",
        "def update(val):\n",
        "    freq = slider.val\n",
        "    line.set_ydata(np.sin(freq * x))\n",
        "    fig.canvas.draw_idle()\n",
        "\n",
        "slider.on_changed(update)\n",
        "\n",
        "# Show Figure\n",
        "plt.legend()\n",
        "plt.show()\n"
      ],
      "metadata": {
        "id": "aRwDQ4JeQghZ"
      },
      "execution_count": null,
      "outputs": []
    }
  ]
}
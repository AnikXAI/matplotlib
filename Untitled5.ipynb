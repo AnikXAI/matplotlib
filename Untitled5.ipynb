{
  "nbformat": 4,
  "nbformat_minor": 0,
  "metadata": {
    "colab": {
      "private_outputs": true,
      "provenance": [],
      "authorship_tag": "ABX9TyO6Q5wbViRjsvzyLF6MVxvy",
      "include_colab_link": true
    },
    "kernelspec": {
      "name": "python3",
      "display_name": "Python 3"
    },
    "language_info": {
      "name": "python"
    }
  },
  "cells": [
    {
      "cell_type": "markdown",
      "metadata": {
        "id": "view-in-github",
        "colab_type": "text"
      },
      "source": [
        "<a href=\"https://colab.research.google.com/github/AnikXAI/matplotlib/blob/main/Untitled5.ipynb\" target=\"_parent\"><img src=\"https://colab.research.google.com/assets/colab-badge.svg\" alt=\"Open In Colab\"/></a>"
      ]
    },
    {
      "cell_type": "markdown",
      "source": [
        "**Heatmap**"
      ],
      "metadata": {
        "id": "nK0fkC_8SziI"
      }
    },
    {
      "cell_type": "code",
      "source": [
        "data = np.random.rand(20,8)\n",
        "\n",
        "plt.figure(figsize=(10,6))\n",
        "sns.heatmap(data, cmap='plasma', annot=True)\n",
        "\n",
        "plt.show()\n"
      ],
      "metadata": {
        "id": "cN3ocZfInXr7"
      },
      "execution_count": null,
      "outputs": []
    },
    {
      "cell_type": "markdown",
      "source": [],
      "metadata": {
        "id": "9Utm6NgDnW3A"
      }
    },
    {
      "cell_type": "code",
      "execution_count": null,
      "metadata": {
        "id": "LEeZdjYM7IxY"
      },
      "outputs": [],
      "source": [
        "import numpy as np\n",
        "import pandas as pd\n",
        "import seaborn as sns\n",
        "import matplotlib.pyplot as plt\n",
        "\n",
        "np.random.seed(42)\n",
        "data = pd.DataFrame(np.random.randn(20, 8), columns=['A', 'B', 'C', 'D', 'E','F','G','H'])\n",
        "\n",
        "correlation_matrix = data.corr()\n",
        "\n",
        "plt.figure(figsize=(10, 12))\n",
        "sns.heatmap(correlation_matrix, annot=True, cmap='viridis', fmt=\".2f\", linewidths=1)\n",
        "plt.title(\"Correlation Matrix Heatmap\")\n",
        "plt.show()\n"
      ]
    },
    {
      "cell_type": "markdown",
      "source": [
        "**Boxplot**"
      ],
      "metadata": {
        "id": "FIpJo6-dS6gb"
      }
    },
    {
      "cell_type": "code",
      "source": [
        "import numpy as np\n",
        "import matplotlib.pyplot as plt\n",
        "from mpl_toolkits.mplot3d import Axes3D\n",
        "\n",
        "# Create grid data\n",
        "x = np.linspace(1, 50,25)\n",
        "y = np.linspace(1, 50,25)\n",
        "x, y = np.meshgrid(x, y)\n",
        "\n",
        "# Compute Z values (for example, Z = x^2 + y^2)\n",
        "z = np.sqrt(x**2 + y**2)\n",
        "\n",
        "# Create 3D plot\n",
        "fig = plt.figure()\n",
        "ax = fig.add_subplot(111, projection='3d')\n",
        "\n",
        "# Create the surface plot\n",
        "ax.plot_surface(x, y, z, cmap='plasma',edgecolor='black')\n",
        "\n",
        "# Show plot\n",
        "plt.show()\n"
      ],
      "metadata": {
        "id": "Sm27mLYljiLO"
      },
      "execution_count": null,
      "outputs": []
    },
    {
      "cell_type": "code",
      "source": [
        "x = np.linspace(1, 5, 3)\n",
        "y = np.linspace(1, 5, 3)\n",
        "X, Y = np.meshgrid(x, y)\n",
        "Z = np.sin(np.sqrt(X**2 + Y**2))\n",
        "\n",
        "fig = plt.figure(figsize=(8, 6))\n",
        "ax = fig.add_subplot(111, projection='3d')\n",
        "ax.plot_surface(X, Y, Z, cmap='viridis',edgecolor='black')\n",
        "\n",
        "ax.set_xlabel(\"X Axis\")\n",
        "ax.set_ylabel(\"Y Axis\")\n",
        "ax.set_zlabel(\"Z = f(x, y)\")\n",
        "ax.set_title(\"3D Surface Plot\")\n",
        "\n",
        "plt.show()\n"
      ],
      "metadata": {
        "id": "vRshp8AdPFGS"
      },
      "execution_count": null,
      "outputs": []
    }
  ]
}
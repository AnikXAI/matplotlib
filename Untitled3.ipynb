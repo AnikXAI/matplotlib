{
  "nbformat": 4,
  "nbformat_minor": 0,
  "metadata": {
    "colab": {
      "private_outputs": true,
      "provenance": [],
      "authorship_tag": "ABX9TyP6epBUmQT+s6/ofF3/gUPS",
      "include_colab_link": true
    },
    "kernelspec": {
      "name": "python3",
      "display_name": "Python 3"
    },
    "language_info": {
      "name": "python"
    }
  },
  "cells": [
    {
      "cell_type": "markdown",
      "metadata": {
        "id": "view-in-github",
        "colab_type": "text"
      },
      "source": [
        "<a href=\"https://colab.research.google.com/github/Anikchakma25/matplotlib/blob/main/Untitled3.ipynb\" target=\"_parent\"><img src=\"https://colab.research.google.com/assets/colab-badge.svg\" alt=\"Open In Colab\"/></a>"
      ]
    },
    {
      "cell_type": "markdown",
      "source": [
        "**1** Simple line plot"
      ],
      "metadata": {
        "id": "1TKV5gZjYWVh"
      }
    },
    {
      "cell_type": "code",
      "execution_count": null,
      "metadata": {
        "id": "b-Wge6uyYUfa"
      },
      "outputs": [],
      "source": [
        "import matplotlib.pyplot as plt\n",
        "\n",
        "x = [1, 2, 3, 4, 5]\n",
        "y = [10, 20, 25, 30, 40]\n",
        "\n",
        "plt.plot(x, y, marker='o', linestyle='-', color='r', label='Line Plot')\n",
        "\n",
        "plt.title('Simple Line Plot')\n",
        "plt.xlabel('X Axis')\n",
        "plt.ylabel('Y Axis')\n",
        "\n",
        "plt.legend()\n",
        "\n",
        "plt.show()\n"
      ]
    },
    {
      "cell_type": "markdown",
      "source": [
        "**2** Simple multiple line plot"
      ],
      "metadata": {
        "id": "A3rUyqxEYtUO"
      }
    },
    {
      "cell_type": "code",
      "source": [
        "import matplotlib.pyplot as plt\n",
        "\n",
        "x = [1, 2, 3, 4, 5]\n",
        "y1 = [10, 20, 25, 30, 40]\n",
        "y2 = [15, 18, 28, 33, 38]\n",
        "\n",
        "plt.plot(x, y1, marker='o', linestyle='-', color='b', label='Line 1')\n",
        "\n",
        "plt.plot(x, y2, marker='x', linestyle='--', color='r', label='Line 2')\n",
        "\n",
        "plt.title('Multiple Line Plot')\n",
        "plt.xlabel('X Axis')\n",
        "plt.ylabel('Y Axis')\n",
        "\n",
        "plt.legend()\n",
        "\n",
        "plt.show()\n",
        "\n"
      ],
      "metadata": {
        "id": "dLQ9YBSMY0n3"
      },
      "execution_count": null,
      "outputs": []
    },
    {
      "cell_type": "markdown",
      "source": [
        "**3** Scatter plot"
      ],
      "metadata": {
        "id": "z8m5L-FiZGLT"
      }
    },
    {
      "cell_type": "code",
      "source": [
        "import matplotlib.pyplot as plt\n",
        "import numpy as np\n",
        "\n",
        "x = np.random.rand(50)\n",
        "y = np.random.rand(50)\n",
        "\n",
        "plt.scatter(x, y, color='g', marker='x', label='Scatter Points')\n",
        "\n",
        "plt.title('Random Scatter Plot')\n",
        "plt.xlabel('X Axis')\n",
        "plt.ylabel('Y Axis')\n",
        "\n",
        "plt.legend()\n",
        "\n",
        "plt.show()\n"
      ],
      "metadata": {
        "id": "SSxWnpWaZE_x"
      },
      "execution_count": null,
      "outputs": []
    },
    {
      "cell_type": "markdown",
      "source": [
        "**4** Bar chart"
      ],
      "metadata": {
        "id": "IGfxyd6WkxW9"
      }
    },
    {
      "cell_type": "code",
      "source": [
        "import matplotlib.pyplot as plt\n",
        "\n",
        "categories = ['Apple', 'Banana', 'Orange', 'Grapes', 'Mango']\n",
        "values = [30, 45, 25, 50, 40]\n",
        "\n",
        "plt.bar(categories, values,edgecolor='b', color=['red', 'yellow', 'orange', 'purple', 'green'])\n",
        "\n",
        "plt.title('Fruit Sales Data')\n",
        "plt.xlabel('Fruit Types')\n",
        "plt.ylabel('Quantity Sold')\n",
        "\n",
        "plt.show()\n"
      ],
      "metadata": {
        "id": "xArTQiIzk-mI"
      },
      "execution_count": null,
      "outputs": []
    },
    {
      "cell_type": "markdown",
      "source": [
        "**5** Histogram Plot"
      ],
      "metadata": {
        "id": "WR7XLN2dlriC"
      }
    },
    {
      "cell_type": "code",
      "source": [
        "import matplotlib.pyplot as plt\n",
        "import numpy as np\n",
        "\n",
        "data = np.random.randn(8)\n",
        "\n",
        "plt.hist(data, bins=4, color='r', edgecolor='black')\n",
        "\n",
        "plt.title('Histogram of Random Data')\n",
        "plt.xlabel('Value Ranges')\n",
        "plt.ylabel('Frequency')\n",
        "\n",
        "plt.show()\n"
      ],
      "metadata": {
        "id": "bRSOTE0sltHS"
      },
      "execution_count": null,
      "outputs": []
    },
    {
      "cell_type": "markdown",
      "source": [
        "**5** pie chart"
      ],
      "metadata": {
        "id": "lTO0pJJanX4z"
      }
    },
    {
      "cell_type": "code",
      "source": [
        "import matplotlib.pyplot as plt\n",
        "\n",
        "labels = ['Apple', 'Banana', 'Orange', 'Grapes', 'Mango']\n",
        "sizes = [30, 20, 25, 15, 10]\n",
        "\n",
        "plt.pie(sizes, labels=labels, autopct='%1.1f%%', colors=['red', 'yellow', 'orange', 'purple', 'green'], startangle=120)\n",
        "\n",
        "plt.title('Fruit Distribution')\n",
        "\n",
        "plt.show()\n"
      ],
      "metadata": {
        "id": "w1cAknjDncUf"
      },
      "execution_count": null,
      "outputs": []
    },
    {
      "cell_type": "code",
      "source": [
        "import matplotlib.pyplot as plt\n",
        "import numpy as np\n",
        "\n",
        "x = np.arange(1, 6)\n",
        "y1 = [10, 20, 25, 30, 40]\n",
        "y2 = [15, 18, 28, 33, 38]\n",
        "\n",
        "fig, axs = plt.subplots(2, 2, figsize=(10, 8))\n",
        "\n",
        "axs[0, 0].plot(x, y1, marker='o', color='b')\n",
        "axs[0, 0].set_title('Line Plot')\n",
        "\n",
        "axs[0, 1].bar(x, y1, color='g')\n",
        "axs[0, 1].set_title('Bar Chart')\n",
        "\n",
        "axs[1, 0].scatter(x, y2, color='r')\n",
        "axs[1, 0].set_title('Scatter Plot')\n",
        "\n",
        "data = np.random.randn(100)\n",
        "axs[1, 1].hist(data, bins=10, color='purple', edgecolor='black')\n",
        "axs[1, 1].set_title('Histogram')\n",
        "\n",
        "plt.tight_layout()\n",
        "plt.show()\n",
        "import matplotlib.pyplot as plt\n",
        "import numpy as np\n",
        "\n",
        "x = np.arange(1, 6)\n",
        "y1 = [10, 20, 25, 30, 40]\n",
        "y2 = [15, 18, 28, 33, 38]\n",
        "\n",
        "fig, axs = plt.subplots(2, 2, figsize=(10, 8))\n",
        "\n",
        "axs[0, 0].plot(x, y1,marker='o', color='b')\n",
        "axs[0, 0].set_title('Linne plot')\n"
      ],
      "metadata": {
        "id": "yxaBAtJVp6TU"
      },
      "execution_count": null,
      "outputs": []
    },
    {
      "cell_type": "code",
      "source": [
        "import matplotlib.pyplot as plt\n",
        "import numpy as np\n",
        "\n",
        "x = np.arange(1, 6)\n",
        "y1 = [10, 20, 25, 30, 40]\n",
        "y2 = [15, 18, 28, 33, 38]\n",
        "\n",
        "fig, axs = plt.subplots(2, 2, figsize=(10, 8))\n",
        "\n",
        "axs[0, 0].plot(x, y1, marker='o', color='b')\n",
        "axs[0, 0].set_title('Line Plot')\n",
        "axs[0, 0].set_xlabel('X-axis')\n",
        "axs[0, 0].set_ylabel('Y-axis')\n",
        "\n",
        "axs[0, 1].bar(x, y1, color='g')\n",
        "axs[0, 1].set_title('Bar Chart')\n",
        "axs[0, 1].set_xlabel('Categories')\n",
        "axs[0, 1].set_ylabel('Values')\n",
        "\n",
        "axs[1, 0].scatter(x, y2, color='r')\n",
        "axs[1, 0].set_title('Scatter Plot')\n",
        "axs[1, 0].set_xlabel('X values')\n",
        "axs[1, 0].set_ylabel('Y values')\n",
        "\n",
        "data = np.random.randn(100)\n",
        "axs[1, 1].hist(data, bins=10, color='purple', edgecolor='black')\n",
        "axs[1, 1].set_title('Histogram')\n",
        "axs[1, 1].set_xlabel('Data Ranges')\n",
        "axs[1, 1].set_ylabel('Frequency')\n",
        "\n",
        "plt.tight_layout()\n",
        "plt.show()\n"
      ],
      "metadata": {
        "id": "7-5uNAgXD0U7"
      },
      "execution_count": null,
      "outputs": []
    },
    {
      "cell_type": "code",
      "source": [
        "import matplotlib.pyplot as plt\n",
        "import numpy as np\n",
        "\n",
        "x = np.arange(1, 6)\n",
        "y1 = [10, 20, 25, 30, 40]\n",
        "y2 = [15, 18, 28, 33, 38]\n",
        "\n",
        "fig, axs = plt.subplots(2, 2, figsize=(10, 8))\n",
        "\n",
        "axs[0, 0].plot(x, y1, marker='o', color='b', label='Line 1')\n",
        "axs[0, 0].plot(x, y2, marker='s', linestyle='--', color='r', label='Line 2')\n",
        "axs[0, 0].set_title('Line Plot')\n",
        "axs[0, 0].set_xlabel('X-axis')\n",
        "axs[0, 0].set_ylabel('Y-axis')\n",
        "axs[0, 0].legend()\n",
        "\n",
        "axs[0, 1].bar(x, y1, color='g', label='Category A')\n",
        "axs[0, 1].bar(x, y2, color='c', label='Category B', alpha=0.7)\n",
        "axs[0, 1].set_title('Bar Chart')\n",
        "axs[0, 1].set_xlabel('Categories')\n",
        "axs[0, 1].set_ylabel('Values')\n",
        "axs[0, 1].legend()\n",
        "\n",
        "axs[1, 0].scatter(x, y1, color='r', label='Group 1')\n",
        "axs[1, 0].scatter(x, y2, color='b', label='Group 2')\n",
        "axs[1, 0].set_title('Scatter Plot')\n",
        "axs[1, 0].set_xlabel('X values')\n",
        "axs[1, 0].set_ylabel('Y values')\n",
        "axs[1, 0].legend()\n",
        "\n",
        "data1 = np.random.randn(100)\n",
        "data2 = np.random.randn(100) +3\n",
        "axs[1, 1].hist(data1, bins=10, color='purple', alpha=0.6, label='Dataset 1',edgecolor='b')\n",
        "axs[1, 1].hist(data2, bins=10, color='orange', alpha=0.6, label='Dataset 2',edgecolor='r')\n",
        "axs[1, 1].set_title('Histogram')\n",
        "axs[1, 1].set_xlabel('Data Ranges')\n",
        "axs[1, 1].set_ylabel('Frequency')\n",
        "axs[1, 1].legend()\n",
        "\n",
        "plt.tight_layout()\n",
        "plt.show()\n"
      ],
      "metadata": {
        "id": "Y_JGyYmwEVK6"
      },
      "execution_count": null,
      "outputs": []
    },
    {
      "cell_type": "code",
      "source": [
        "import matplotlib.pyplot as plt\n",
        "import numpy as np\n",
        "\n",
        "x = np.arange(1, 6)\n",
        "y1 = [10, 20, 25, 30, 40]\n",
        "y2 = [15, 18, 28, 33, 38]\n",
        "\n",
        "fig, axs = plt.subplots(2, 2, figsize=(10, 8))\n",
        "\n",
        "axs[0, 0].plot(x, y1, marker='o', color='b', label='Line 1')\n",
        "axs[0, 0].plot(x, y2, marker='s', linestyle='--', color='r', label='Line 2')\n",
        "axs[0, 0].set_title('Line Plot')\n",
        "axs[0, 0].set_xlabel('X-axis')\n",
        "axs[0, 0].set_ylabel('Y-axis')\n",
        "axs[0, 0].legend()\n",
        "axs[0, 0].grid(True, linestyle='--', alpha=1)\n",
        "\n",
        "axs[0, 1].bar(x, y1, color='g', label='Category A')\n",
        "axs[0, 1].bar(x, y2, color='c', label='Category B', alpha=0.7)\n",
        "axs[0, 1].set_title('Bar Chart')\n",
        "axs[0, 1].set_xlabel('Categories')\n",
        "axs[0, 1].set_ylabel('Values')\n",
        "axs[0, 1].legend()\n",
        "axs[0, 1].grid(axis='y', linestyle='-.', alpha=1)\n",
        "\n",
        "axs[1, 0].scatter(x, y1, color='r', label='Group 1')\n",
        "axs[1, 0].scatter(x, y2, color='b', label='Group 2')\n",
        "axs[1, 0].set_title('Scatter Plot')\n",
        "axs[1, 0].set_xlabel('X values')\n",
        "axs[1, 0].set_ylabel('Y values')\n",
        "axs[1, 0].legend()\n",
        "axs[1, 0].grid(True, linestyle='dotted', linewidth=0.8, alpha=0.6)\n",
        "\n",
        "data1 = np.random.randn(100)\n",
        "data2 = np.random.randn(100) + 2\n",
        "axs[1, 1].hist(data1, bins=10, color='purple', alpha=0.6, label='Dataset 1')\n",
        "axs[1, 1].hist(data2, bins=10, color='orange', alpha=0.6, label='Dataset 2')\n",
        "axs[1, 1].set_title('Histogram')\n",
        "axs[1, 1].set_xlabel('Data Ranges')\n",
        "axs[1, 1].set_ylabel('Frequency')\n",
        "axs[1, 1].legend()\n",
        "axs[1, 1].grid(axis='y', linestyle='--', linewidth=0.7, alpha=0.7)\n",
        "\n",
        "plt.tight_layout()\n",
        "plt.show()\n"
      ],
      "metadata": {
        "id": "V9ABsE5mIw42"
      },
      "execution_count": null,
      "outputs": []
    }
  ]
}
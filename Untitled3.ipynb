{
  "nbformat": 4,
  "nbformat_minor": 0,
  "metadata": {
    "colab": {
      "private_outputs": true,
      "provenance": [],
      "authorship_tag": "ABX9TyM65FiR7hU/E6TwSvQo+iQd",
      "include_colab_link": true
    },
    "kernelspec": {
      "name": "python3",
      "display_name": "Python 3"
    },
    "language_info": {
      "name": "python"
    }
  },
  "cells": [
    {
      "cell_type": "markdown",
      "metadata": {
        "id": "view-in-github",
        "colab_type": "text"
      },
      "source": [
        "<a href=\"https://colab.research.google.com/github/Anikchakma25/matplotlib/blob/main/Untitled3.ipynb\" target=\"_parent\"><img src=\"https://colab.research.google.com/assets/colab-badge.svg\" alt=\"Open In Colab\"/></a>"
      ]
    },
    {
      "cell_type": "markdown",
      "source": [
        "**1** Simple line plot"
      ],
      "metadata": {
        "id": "1TKV5gZjYWVh"
      }
    },
    {
      "cell_type": "code",
      "execution_count": null,
      "metadata": {
        "id": "b-Wge6uyYUfa"
      },
      "outputs": [],
      "source": [
        "import matplotlib.pyplot as plt\n",
        "\n",
        "x = [1, 2, 3, 4, 5]\n",
        "y = [10, 20, 25, 30, 40]\n",
        "\n",
        "plt.plot(x, y, marker='o', linestyle='-', color='r', label='Line Plot')\n",
        "\n",
        "plt.title('Simple Line Plot')\n",
        "plt.xlabel('X Axis')\n",
        "plt.ylabel('Y Axis')\n",
        "\n",
        "plt.legend()\n",
        "\n",
        "plt.show()\n"
      ]
    },
    {
      "cell_type": "markdown",
      "source": [
        "**2** Simple multiple line plot"
      ],
      "metadata": {
        "id": "A3rUyqxEYtUO"
      }
    },
    {
      "cell_type": "code",
      "source": [
        "import matplotlib.pyplot as plt\n",
        "\n",
        "x = [1, 2, 3, 4, 5]\n",
        "y1 = [10, 20, 25, 30, 40]\n",
        "y2 = [15, 18, 28, 33, 38]\n",
        "\n",
        "plt.plot(x, y1, marker='o', linestyle='-', color='b', label='Line 1')\n",
        "\n",
        "plt.plot(x, y2, marker='x', linestyle='--', color='r', label='Line 2')\n",
        "\n",
        "plt.title('Multiple Line Plot')\n",
        "plt.xlabel('X Axis')\n",
        "plt.ylabel('Y Axis')\n",
        "\n",
        "plt.legend()\n",
        "\n",
        "plt.show()\n",
        "import matplotlib.pyplot as plt\n",
        "x= [1,2,3,4,5]\n",
        "y1=[10,20,25,30,40]\n",
        "y2=[15,18,18,38]\n",
        "plt.plot(x,y1,marker='o',linestyle='-',color='b',label='Line 1')\n",
        "plt.plot(x,y2,marker='*',linestyle='-',color='b',label='Line 2')\n",
        "plt.title('Multiple Line plot')\n",
        "plt.xlabel('x axis')\n",
        "plt.ylabel('y axis')\n",
        "plt.legend()\n",
        "plt.show()\n",
        "\n"
      ],
      "metadata": {
        "id": "dLQ9YBSMY0n3"
      },
      "execution_count": null,
      "outputs": []
    },
    {
      "cell_type": "markdown",
      "source": [
        "**3** Scatter plot"
      ],
      "metadata": {
        "id": "z8m5L-FiZGLT"
      }
    },
    {
      "cell_type": "code",
      "source": [
        "import matplotlib.pyplot as plt\n",
        "import numpy as np\n",
        "\n",
        "x = np.random.rand(50)\n",
        "y = np.random.rand(50)\n",
        "\n",
        "plt.scatter(x, y, color='g', marker='x', label='Scatter Points')\n",
        "\n",
        "plt.title('Random Scatter Plot')\n",
        "plt.xlabel('X Axis')\n",
        "plt.ylabel('Y Axis')\n",
        "\n",
        "plt.legend()\n",
        "\n",
        "plt.show()\n"
      ],
      "metadata": {
        "id": "SSxWnpWaZE_x"
      },
      "execution_count": null,
      "outputs": []
    }
  ]
}